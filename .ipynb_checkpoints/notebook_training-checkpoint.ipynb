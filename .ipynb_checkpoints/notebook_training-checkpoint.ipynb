{
 "cells": [
  {
   "cell_type": "code",
   "execution_count": 1,
   "metadata": {},
   "outputs": [
    {
     "name": "stdout",
     "output_type": "stream",
     "text": [
      "Requirement already satisfied: scikit-learn in d:\\anaconda3\\lib\\site-packages (from -r requirements.txt (line 1)) (0.23.1)\n",
      "Requirement already satisfied: matplotlib in d:\\anaconda3\\lib\\site-packages (from -r requirements.txt (line 2)) (3.2.2)\n",
      "Requirement already satisfied: pandas in d:\\anaconda3\\lib\\site-packages (from -r requirements.txt (line 3)) (1.0.5)\n",
      "Requirement already satisfied: numpy in d:\\anaconda3\\lib\\site-packages (from -r requirements.txt (line 4)) (1.18.5)\n",
      "Requirement already satisfied: threadpoolctl>=2.0.0 in d:\\anaconda3\\lib\\site-packages (from scikit-learn->-r requirements.txt (line 1)) (2.1.0)\n",
      "Requirement already satisfied: joblib>=0.11 in d:\\anaconda3\\lib\\site-packages (from scikit-learn->-r requirements.txt (line 1)) (0.16.0)\n",
      "Requirement already satisfied: scipy>=0.19.1 in d:\\anaconda3\\lib\\site-packages (from scikit-learn->-r requirements.txt (line 1)) (1.5.0)\n",
      "Requirement already satisfied: python-dateutil>=2.1 in d:\\anaconda3\\lib\\site-packages (from matplotlib->-r requirements.txt (line 2)) (2.8.1)\n",
      "Requirement already satisfied: kiwisolver>=1.0.1 in d:\\anaconda3\\lib\\site-packages (from matplotlib->-r requirements.txt (line 2)) (1.2.0)\n",
      "Requirement already satisfied: pyparsing!=2.0.4,!=2.1.2,!=2.1.6,>=2.0.1 in d:\\anaconda3\\lib\\site-packages (from matplotlib->-r requirements.txt (line 2)) (2.4.7)\n",
      "Requirement already satisfied: cycler>=0.10 in d:\\anaconda3\\lib\\site-packages (from matplotlib->-r requirements.txt (line 2)) (0.10.0)\n",
      "Requirement already satisfied: pytz>=2017.2 in d:\\anaconda3\\lib\\site-packages (from pandas->-r requirements.txt (line 3)) (2020.1)\n",
      "Requirement already satisfied: six>=1.5 in d:\\anaconda3\\lib\\site-packages (from python-dateutil>=2.1->matplotlib->-r requirements.txt (line 2)) (1.15.0)\n"
     ]
    }
   ],
   "source": [
    "!pip install -r requirements.txt"
   ]
  }
 ],
 "metadata": {
  "kernelspec": {
   "display_name": "Python 3",
   "language": "python",
   "name": "python3"
  },
  "language_info": {
   "codemirror_mode": {
    "name": "ipython",
    "version": 3
   },
   "file_extension": ".py",
   "mimetype": "text/x-python",
   "name": "python",
   "nbconvert_exporter": "python",
   "pygments_lexer": "ipython3",
   "version": "3.8.3"
  }
 },
 "nbformat": 4,
 "nbformat_minor": 4
}
